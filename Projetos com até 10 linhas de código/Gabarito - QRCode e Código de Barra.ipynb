{
 "cells": [
  {
   "cell_type": "code",
   "execution_count": 6,
   "id": "9f2163cd",
   "metadata": {},
   "outputs": [
    {
     "data": {
      "text/plain": [
       "'codigo_barra.png'"
      ]
     },
     "execution_count": 6,
     "metadata": {},
     "output_type": "execute_result"
    }
   ],
   "source": [
    "from barcode import EAN13\n",
    "from barcode.writer import ImageWriter # para salvar em png\n",
    "\n",
    "numero = \"123123123123\"\n",
    "\n",
    "codigo_barra = EAN13(numero, writer=ImageWriter()) # writer para salvar em png\n",
    "codigo_barra.save(\"codigo_barra\")"
   ]
  },
  {
   "cell_type": "markdown",
   "id": "c7305c3f",
   "metadata": {},
   "source": [
    "### Exemplo: Lista de Produtos em uma Fábrica"
   ]
  },
  {
   "cell_type": "code",
   "execution_count": 7,
   "id": "69ca6656",
   "metadata": {},
   "outputs": [],
   "source": [
    "codigos_produtos = {\n",
    "    \"Feijao\": \"551746511111\",\n",
    "    \"Arroz\": \"665789011111\",\n",
    "    \"Macarrao\": \"665887111111\",\n",
    "    \"Azeite\": \"998556211111\"}\n",
    "\n",
    "for produto in codigos_produtos:\n",
    "    codigo_barra = EAN13(codigos_produtos[produto], writer=ImageWriter()) # writer para salvar em png\n",
    "    codigo_barra.save(f\"{produto}_codigo\")"
   ]
  },
  {
   "cell_type": "markdown",
   "id": "c7a1141b",
   "metadata": {},
   "source": [
    "### Gerar QRCode"
   ]
  },
  {
   "cell_type": "code",
   "execution_count": 8,
   "id": "ed85c425",
   "metadata": {},
   "outputs": [],
   "source": [
    "import qrcode\n",
    "\n",
    "meu_qrcode = qrcode.make(\"https://pages.hashtagtreinamentos.com/inscricao-intensivao-de-python-org\")\n",
    "meu_qrcode.save(\"qrcode_intensivao.png\")"
   ]
  },
  {
   "cell_type": "markdown",
   "id": "03ca72cf",
   "metadata": {},
   "source": [
    "### Exemplo: Lista de Produtos de um E-commerce"
   ]
  },
  {
   "cell_type": "code",
   "execution_count": 10,
   "id": "a747a20d",
   "metadata": {},
   "outputs": [],
   "source": [
    "links_produtos = {\n",
    "    \"Excel\": \"https://excelparaestagio.klickpages.com.br/inscricao-basico-cta-att?origemurl=hashtag_yt_org_minibasico2_videoqrcode\",\n",
    "    \"VBA\": \"https://pages.hashtagtreinamentos.com/inscricao-minicurso-formulario?origemurl=hashtag_yt_org_miniform_videoqrcode\",\n",
    "    \"Power BI\": \"https://excelparaestagio.klickpages.com.br/inscricao-minicurso-power-bi?origemurl=hashtag_yt_org_minicursopbi_videoqrcode\",\n",
    "    \"Python\": \"https://pages.hashtagtreinamentos.com/inscricao-minicurso-python-automacao-org?origemurl=hashtag_yt_org_minipython_videoqrcode\",\n",
    "    \"SQL\":\"https://excelparaestagio.klickpages.com.br/inscricao-minicurso-sql?origemurl=hashtag_yt_org_minisql_videoqrcode\"\n",
    "}\n",
    "\n",
    "for produto in links_produtos:\n",
    "    meu_qrcode = qrcode.make(links_produtos[produto])\n",
    "    meu_qrcode.save(f\"qrcode_{produto}.png\")"
   ]
  },
  {
   "cell_type": "code",
   "execution_count": null,
   "id": "9394c6e6",
   "metadata": {},
   "outputs": [],
   "source": []
  }
 ],
 "metadata": {
  "kernelspec": {
   "display_name": "Python 3",
   "language": "python",
   "name": "python3"
  },
  "language_info": {
   "codemirror_mode": {
    "name": "ipython",
    "version": 3
   },
   "file_extension": ".py",
   "mimetype": "text/x-python",
   "name": "python",
   "nbconvert_exporter": "python",
   "pygments_lexer": "ipython3",
   "version": "3.8.8"
  }
 },
 "nbformat": 4,
 "nbformat_minor": 5
}
